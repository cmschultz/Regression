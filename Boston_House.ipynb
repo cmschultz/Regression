{
 "cells": [
  {
   "cell_type": "markdown",
   "metadata": {},
   "source": [
    "# Regression"
   ]
  },
  {
   "cell_type": "markdown",
   "metadata": {},
   "source": [
    "## House Pricing Regression using Dense Neural Networks"
   ]
  },
  {
   "cell_type": "markdown",
   "metadata": {},
   "source": [
    "#### Importing the libraries"
   ]
  },
  {
   "cell_type": "code",
   "execution_count": 1,
   "metadata": {},
   "outputs": [
    {
     "name": "stderr",
     "output_type": "stream",
     "text": [
      "2024-02-22 16:52:56.220610: I tensorflow/tsl/cuda/cudart_stub.cc:28] Could not find cuda drivers on your machine, GPU will not be used.\n",
      "2024-02-22 16:52:58.129796: I tensorflow/tsl/cuda/cudart_stub.cc:28] Could not find cuda drivers on your machine, GPU will not be used.\n",
      "2024-02-22 16:52:58.131891: I tensorflow/core/platform/cpu_feature_guard.cc:182] This TensorFlow binary is optimized to use available CPU instructions in performance-critical operations.\n",
      "To enable the following instructions: AVX2 FMA, in other operations, rebuild TensorFlow with the appropriate compiler flags.\n",
      "2024-02-22 16:53:03.069976: W tensorflow/compiler/tf2tensorrt/utils/py_utils.cc:38] TF-TRT Warning: Could not find TensorRT\n"
     ]
    }
   ],
   "source": [
    "import numpy as np\n",
    "import pandas as pd\n",
    "import matplotlib.pyplot as plt \n",
    "import tensorflow as tf"
   ]
  },
  {
   "cell_type": "markdown",
   "metadata": {},
   "source": [
    "#### Importing the dataset"
   ]
  },
  {
   "cell_type": "code",
   "execution_count": 7,
   "metadata": {},
   "outputs": [],
   "source": [
    "data = tf.keras.datasets.boston_housing\n",
    "\n",
    "## Separating the train and test data in diferent variables\n",
    "\n",
    "(x_train, y_train), (x_val, y_val) = data.load_data()   # load_data is a function, remember the () in the end."
   ]
  },
  {
   "cell_type": "code",
   "execution_count": 8,
   "metadata": {},
   "outputs": [
    {
     "name": "stdout",
     "output_type": "stream",
     "text": [
      "(404, 13)\n",
      "(404,)\n"
     ]
    }
   ],
   "source": [
    "print(x_train.shape)\n",
    "print(y_train.shape)\n",
    "#note that this part of the data will be bigger than the validaion data. AI need as data as possible in the training.\n",
    "#note that we have 13 columns in the dataset. The meaning of this is that we have 13 features on the data."
   ]
  },
  {
   "cell_type": "code",
   "execution_count": 4,
   "metadata": {},
   "outputs": [
    {
     "name": "stdout",
     "output_type": "stream",
     "text": [
      "(102, 13)\n",
      "(102,)\n"
     ]
    }
   ],
   "source": [
    "print(x_val.shape)\n",
    "print(y_val.shape)\n",
    "#note that this dataset is smaller than the training dataset. "
   ]
  },
  {
   "cell_type": "code",
   "execution_count": 5,
   "metadata": {},
   "outputs": [
    {
     "name": "stdout",
     "output_type": "stream",
     "text": [
      "Given to the model: 1.23247,  0.0, 8.14,  0.0, 0.538,  6.142,  91.7,  3.9769,  4.0,  307.0,  21.0,  396.9,  18.72\n",
      "Answer: 15.2\n",
      "Given to the model: 0.02177,  82.5, 2.03,  0.0, 0.415,  7.61,  15.7,  6.27,  2.0,  348.0,  14.7,  395.38,  3.11\n",
      "Answer: 42.3\n",
      "Given to the model: 4.89822,  0.0, 18.1,  0.0, 0.631,  4.97,  100.0,  1.3325,  24.0,  666.0,  20.2,  375.52,  3.26\n",
      "Answer: 50.0\n",
      "Given to the model: 0.03961,  0.0, 5.19,  0.0, 0.515,  6.037,  34.5,  5.9853,  5.0,  224.0,  20.2,  396.9,  8.01\n",
      "Answer: 21.1\n",
      "Given to the model: 3.69311,  0.0, 18.1,  0.0, 0.713,  6.376,  88.4,  2.5671,  24.0,  666.0,  20.2,  391.43,  14.65\n",
      "Answer: 17.7\n",
      "Given to the model: 0.28392,  0.0, 7.38,  0.0, 0.493,  5.708,  74.3,  4.7211,  5.0,  287.0,  19.6,  391.13,  11.74\n",
      "Answer: 18.5\n",
      "Given to the model: 9.18702,  0.0, 18.1,  0.0, 0.7,  5.536,  100.0,  1.5804,  24.0,  666.0,  20.2,  396.9,  23.6\n",
      "Answer: 11.3\n",
      "Given to the model: 4.0974,  0.0, 19.58,  0.0, 0.871,  5.468,  100.0,  1.4118,  5.0,  403.0,  14.7,  396.9,  26.42\n",
      "Answer: 15.6\n",
      "Given to the model: 2.15505,  0.0, 19.58,  0.0, 0.871,  5.628,  100.0,  1.5166,  5.0,  403.0,  14.7,  169.27,  16.65\n",
      "Answer: 15.6\n",
      "Given to the model: 1.62864,  0.0, 21.89,  0.0, 0.624,  5.019,  100.0,  1.4394,  4.0,  437.0,  21.2,  396.9,  34.41\n",
      "Answer: 14.4\n"
     ]
    }
   ],
   "source": [
    "# Only the first 10 options\n",
    "for i in range(10):\n",
    "   print(f'Given to the model: {x_train[i,0]},  {x_train[i,1]}, {x_train[i,2]},  {x_train[i,3]}, {x_train[i,4]},  {x_train[i,5]},  {x_train[i,6]},  {x_train[i,7]},  {x_train[i,8]},  {x_train[i,9]},  {x_train[i,10]},  {x_train[i,11]},  {x_train[i,12]}')\n",
    "   print(f'Answer: {y_train[i]}')"
   ]
  },
  {
   "cell_type": "code",
   "execution_count": 9,
   "metadata": {},
   "outputs": [
    {
     "data": {
      "text/plain": [
       "<matplotlib.legend.Legend at 0x7fddc766be90>"
      ]
     },
     "execution_count": 9,
     "metadata": {},
     "output_type": "execute_result"
    },
    {
     "data": {
      "image/png": "[encoded data removed]",
      "text/plain": [
       "<Figure size 640x480 with 1 Axes>"
      ]
     },
     "metadata": {},
     "output_type": "display_data"
    }
   ],
   "source": [
    "# It is also important that the validation dataset be proportional to the train dataset.\n",
    "plt.hist(y_train, label='train')\n",
    "plt.hist(y_val, label = 'test')\n",
    "plt.xlabel('Price in K$')\n",
    "plt.legend()"
   ]
  },
  {
   "cell_type": "code",
   "execution_count": 10,
   "metadata": {},
   "outputs": [
    {
     "name": "stdout",
     "output_type": "stream",
     "text": [
      "Feature 0 ==> range from 0.00632 to 88.9762\n",
      "Feature 1 ==> range from 0.0 to 100.0\n",
      "Feature 2 ==> range from 0.46 to 27.74\n",
      "Feature 3 ==> range from 0.0 to 1.0\n",
      "Feature 4 ==> range from 0.385 to 0.871\n",
      "Feature 5 ==> range from 3.561 to 8.725\n",
      "Feature 6 ==> range from 2.9 to 100.0\n",
      "Feature 7 ==> range from 1.1296 to 10.7103\n",
      "Feature 8 ==> range from 1.0 to 24.0\n",
      "Feature 9 ==> range from 188.0 to 711.0\n",
      "Feature 10 ==> range from 12.6 to 22.0\n",
      "Feature 11 ==> range from 0.32 to 396.9\n",
      "Feature 12 ==> range from 1.73 to 37.97\n"
     ]
    }
   ],
   "source": [
    "# discover the range of each feature that correspond to a label\n",
    "for i in range(len(x_train[0])):\n",
    "    print(\"Feature {} ==> range from {} to {}\".format(\n",
    "     i, x_train[:,i].min(), x_train[:,i].max()\n",
    "    )\n",
    ")\n"
   ]
  },
  {
   "cell_type": "markdown",
   "metadata": {},
   "source": [
    "### Normalizing the data"
   ]
  },
  {
   "cell_type": "markdown",
   "metadata": {},
   "source": [
    "This is a procedure we do when we have to set an equivalent scale on each feature of a dataset. In this way the model will perform better"
   ]
  },
  {
   "cell_type": "code",
   "execution_count": 11,
   "metadata": {},
   "outputs": [],
   "source": [
    "# To normalize, you will have to divide the maximum range of the feature by the actual value of the feature\n",
    "# In this case it is not padronized (like some images datasets, that we can only all features by divide by 255).\n",
    "# In this case we can use the lib below\n",
    "from sklearn.preprocessing import StandardScaler\n",
    "# You create the object\n",
    "scaler = StandardScaler()\n",
    "\n",
    "# Use ONLY the TRAIN dataset below.\n",
    "scaler.fit(x_train)\n",
    "\n",
    "# Below we have the normalized data.\n",
    "x_train_norm = scaler.transform(x_train)\n",
    "x_val_norm = scaler.transform(x_val)"
   ]
  },
  {
   "cell_type": "code",
   "execution_count": 12,
   "metadata": {},
   "outputs": [
    {
     "name": "stdout",
     "output_type": "stream",
     "text": [
      "Before normalization: 1.23247,  0.0, 8.14,  0.0, 0.538,  6.142,  91.7,  3.9769,  4.0,  307.0,  21.0,  396.9,  18.72\n",
      "After normalization: -0.27224633436918744,  -0.4836154708652843, -0.435761610917923,  -0.2568327484687563, -0.16522660145463205,  -0.17644260263626882,  0.8130618810863538,  0.11669830334066417,  -0.6262490526587586,  -0.595170031037082,  1.1485004386235735,  0.44807713457179416,  0.8252201990576518\n"
     ]
    }
   ],
   "source": [
    "i = 0\n",
    "print(f'Before normalization: {x_train[i,0]},  {x_train[i,1]}, {x_train[i,2]},  {x_train[i,3]}, {x_train[i,4]},  {x_train[i,5]},  {x_train[i,6]},  {x_train[i,7]},  {x_train[i,8]},  {x_train[i,9]},  {x_train[i,10]},  {x_train[i,11]},  {x_train[i,12]}')\n",
    "print(f'After normalization: {x_train_norm[i,0]},  {x_train_norm[i,1]}, {x_train_norm[i,2]},  {x_train_norm[i,3]}, {x_train_norm[i,4]},  {x_train_norm[i,5]},  {x_train_norm[i,6]},  {x_train_norm[i,7]},  {x_train_norm[i,8]},  {x_train_norm[i,9]},  {x_train_norm[i,10]},  {x_train_norm[i,11]},  {x_train_norm[i,12]}')"
   ]
  },
  {
   "cell_type": "markdown",
   "metadata": {},
   "source": [
    "### Define the Model"
   ]
  },
  {
   "cell_type": "code",
   "execution_count": 14,
   "metadata": {},
   "outputs": [
    {
     "data": {
      "text/plain": [
       "13"
      ]
     },
     "execution_count": 14,
     "metadata": {},
     "output_type": "execute_result"
    }
   ],
   "source": [
    "x_train.shape[1]"
   ]
  },
  {
   "cell_type": "code",
   "execution_count": 15,
   "metadata": {},
   "outputs": [
    {
     "data": {
      "text/plain": [
       "13"
      ]
     },
     "execution_count": 15,
     "metadata": {},
     "output_type": "execute_result"
    }
   ],
   "source": [
    "input_shape = x_train.shape[1]\n",
    "input_shape"
   ]
  },
  {
   "cell_type": "code",
   "execution_count": 17,
   "metadata": {},
   "outputs": [],
   "source": [
    "model = tf.keras.models.Sequential([\n",
    "    tf.keras.layers.Input(input_shape),                 # O numero de entradas é o número de neurônios de entrada\n",
    "    tf.keras.layers.Dense(20, activation='relu'),       \n",
    "    tf.keras.layers.Dense(1)                            # Regressão tem só uma saída\n",
    "])"
   ]
  },
  {
   "cell_type": "code",
   "execution_count": 21,
   "metadata": {},
   "outputs": [
    {
     "name": "stdout",
     "output_type": "stream",
     "text": [
      "Model: \"sequential_1\"\n",
      "_________________________________________________________________\n",
      " Layer (type)                Output Shape              Param #   \n",
      "=================================================================\n",
      " dense_2 (Dense)             (None, 20)                280       \n",
      "                                                                 \n",
      " dense_3 (Dense)             (None, 1)                 21        \n",
      "                                                                 \n",
      "=================================================================\n",
      "Total params: 301 (1.18 KB)\n",
      "Trainable params: 301 (1.18 KB)\n",
      "Non-trainable params: 0 (0.00 Byte)\n",
      "_________________________________________________________________\n"
     ]
    }
   ],
   "source": [
    "model.summary()\n",
    "\n",
    "# 280 é 20x13 dos w  + 20 dos b, é um b por neuronio que recebe.\n",
    "# 21 é 20 w das chegadas + o b no neuronio de saida"
   ]
  },
  {
   "cell_type": "markdown",
   "metadata": {},
   "source": [
    "### Compile the model"
   ]
  },
  {
   "cell_type": "code",
   "execution_count": 22,
   "metadata": {},
   "outputs": [],
   "source": [
    "model.compile(\n",
    "    optimizer= 'adam',\n",
    "    loss= 'mse',\n",
    "    metrics=['mae']\n",
    ")"
   ]
  },
  {
   "cell_type": "code",
   "execution_count": 23,
   "metadata": {},
   "outputs": [],
   "source": [
    "history = model.fit(\n",
    "    x_train_norm,\n",
    "    y_train,\n",
    "    epochs = 1000,\n",
    "    verbose = 0\n",
    ")"
   ]
  },
  {
   "cell_type": "code",
   "execution_count": 25,
   "metadata": {},
   "outputs": [
    {
     "name": "stdout",
     "output_type": "stream",
     "text": [
      " 1/13 [=>............................] - ETA: 0s - loss: 3.4655 - mae: 1.3988"
     ]
    },
    {
     "name": "stdout",
     "output_type": "stream",
     "text": [
      "13/13 [==============================] - 0s 1ms/step - loss: 5.2098 - mae: 1.6203\n",
      "Training data MAE: 1.6\n"
     ]
    }
   ],
   "source": [
    "train_eval= model.evaluate(x_train_norm, y_train)\n",
    "print(\"Training data MAE: {:.2}\".format(train_eval[1]))"
   ]
  },
  {
   "cell_type": "code",
   "execution_count": null,
   "metadata": {},
   "outputs": [],
   "source": []
  }
 ],
 "metadata": {
  "kernelspec": {
   "display_name": "Python 3",
   "language": "python",
   "name": "python3"
  },
  "language_info": {
   "codemirror_mode": {
    "name": "ipython",
    "version": 3
   },
   "file_extension": ".py",
   "mimetype": "text/x-python",
   "name": "python",
   "nbconvert_exporter": "python",
   "pygments_lexer": "ipython3",
   "version": "3.11.7"
  }
 },
 "nbformat": 4,
 "nbformat_minor": 2
}
